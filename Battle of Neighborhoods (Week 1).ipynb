{
 "cells": [
  {
   "cell_type": "markdown",
   "id": "improving-history",
   "metadata": {},
   "source": [
    "# Capstone Project - The Battle of Tokyo Neighborhoods (Week 1)"
   ]
  },
  {
   "cell_type": "markdown",
   "id": "ranking-saskatchewan",
   "metadata": {},
   "source": [
    "#### Chonlawit Sirikupt\n",
    "#### 30.01.2021"
   ]
  },
  {
   "cell_type": "markdown",
   "id": "ultimate-wheel",
   "metadata": {},
   "source": [
    "![title](tokyoalley2.jpg)"
   ]
  },
  {
   "cell_type": "markdown",
   "id": "freelance-basic",
   "metadata": {},
   "source": [
    "## Week 1 Assignment Objectives: \n",
    "##### 1) Define a problem for your capstone project.\n",
    "##### 2) Finding the data that you will use for the capstone project.\n"
   ]
  },
  {
   "cell_type": "markdown",
   "id": "skilled-chuck",
   "metadata": {},
   "source": [
    "### Introduction and Background of the Business Problem"
   ]
  },
  {
   "cell_type": "markdown",
   "id": "amber-experience",
   "metadata": {},
   "source": [
    "As the world's largest and most populated metropolis, Tokyo has a lot to offer in a myriad number of ways. One of the most exciting aspects is the dining experience. Tokyo features a full spectrum of both local and regional Japanese cuisine in addition to all types of international fare. From cheap hole-in-the-wall joints in the alleyways to expensive high-class restaurants on Roppongi Hills, delicious food can be found in every corner of the city with virtually every budget in between.\n",
    "\n",
    "**Business problem**: A fictitious start-up tour company called _**2 Rice 1 Sake**_ plans to sharpen its food guide in order to attract young and older foreign tourists who want to go on a fun food escapade in and around Tokyo. The firm was recently established and has few contacts on the ground. _**2 Rice 1 Sake**_ has requested an initial exploratory study on Tokyo's different wards and their features so that it can choose where to focus their food tours in in the later stages of project formulation. Specifically, the client wants  to obtain a broad picture of the kinds of restaurants that are popular and most frequented in different neighborhoods. The client is not interested in other recreational venues like parks, game centers, or sports facilities.\n",
    "\n",
    "To fulfill the client's demands, I will use **Foursquare location data** and **K-Means clustering methods** to group Tokyo's 23 districts into their categories based on their restaurant venues information. To provide an additional depth to the picture that would be beneficial for our client's planning, I will also conduct a secondary analysis that uses data on **celebrity visits to Tokyo** in order to group the districts into categories based on the restaurant venues where prominent celebrities such as Tyler the Creator and Anthony Bourdain have dined out."
   ]
  },
  {
   "cell_type": "markdown",
   "id": "written-vietnam",
   "metadata": {},
   "source": [
    "### --- Proof that Tyler was there ;) ---"
   ]
  },
  {
   "cell_type": "code",
   "execution_count": 19,
   "id": "christian-healthcare",
   "metadata": {},
   "outputs": [
    {
     "data": {
      "text/html": [
       "\n",
       "<blockquote class=\"twitter-tweet\"><p lang=\"tl\" dir=\"ltr\">TOKYO, JAPAN <a href=\"https://t.co/p2L7Z0RUdx\">pic.twitter.com/p2L7Z0RUdx</a></p>&mdash; Tyler, The Creator (@tylerthecreator) <a href=\"https://twitter.com/tylerthecreator/status/905083949033984002?ref_src=twsrc%5Etfw\">September 5, 2017</a></blockquote> <script async src=\"https://platform.twitter.com/widgets.js\" charset=\"utf-8\"></script>\n"
      ],
      "text/plain": [
       "<__main__.Tweet at 0x1fd4a4a1198>"
      ]
     },
     "execution_count": 19,
     "metadata": {},
     "output_type": "execute_result"
    }
   ],
   "source": [
    "class Tweet(object):\n",
    "    def __init__(self, embed_str=None):\n",
    "        self.embed_str = embed_str\n",
    "\n",
    "    def _repr_html_(self):\n",
    "        return self.embed_str\n",
    "\n",
    "s = (\"\"\"\n",
    "<blockquote class=\"twitter-tweet\"><p lang=\"tl\" dir=\"ltr\">TOKYO, JAPAN <a href=\"https://t.co/p2L7Z0RUdx\">pic.twitter.com/p2L7Z0RUdx</a></p>&mdash; Tyler, The Creator (@tylerthecreator) <a href=\"https://twitter.com/tylerthecreator/status/905083949033984002?ref_src=twsrc%5Etfw\">September 5, 2017</a></blockquote> <script async src=\"https://platform.twitter.com/widgets.js\" charset=\"utf-8\"></script>\n",
    "\"\"\")\n",
    "\n",
    "Tweet(s)"
   ]
  },
  {
   "cell_type": "markdown",
   "id": "rocky-toner",
   "metadata": {},
   "source": [
    "### Data Requirement "
   ]
  },
  {
   "cell_type": "markdown",
   "id": "descending-porcelain",
   "metadata": {},
   "source": [
    "##### The following data will be central to the project:"
   ]
  },
  {
   "cell_type": "markdown",
   "id": "clean-planning",
   "metadata": {},
   "source": [
    "* **List of Tokyo wards (districts) including their coordinates (longitude and latitude)**\n",
    "\n",
    "Data source: https://en.wikipedia.org/wiki/Special_wards_of_Tokyo#List_of_special_wards\n",
    "\n",
    "_Description:_ The neighborhood data will be scraped from Wikipedia in order to produce a dataframe that shows key details about each of the 23 wards that exists in Tokyo. The coordinates of the 23 major wards will be obtained using the geocoder class of Geopy client. \n",
    "\n",
    "* **Types of restaurants in each ward** \n",
    "\n",
    "Data source: Foursquare API\n",
    "\n",
    "_Description:_ The API key will be used to access all possible venues located in each ward. Only restaurant venues will be filtered given that our client wants prioritizes food tours above all else. We will then use K-Means clustering to cluster them into different groups for analysis.\n",
    "\n",
    "* **Prominent celebrities and locations of their dine-outs in Tokyo**\n",
    "\n",
    "Data source: https://www.kaggle.com/alnguyen22/celebrities-in-tokyo\n",
    "\n",
    "_Description:_ After the dining-out features of each ward has been determined, this dataset will be imported and the exploratory analysis will be replicated. The dataset, which contain details about which celebrities visited Tokyo and the locations they had dined out during their stay, will be merged with the previous dataframe. We will filter out the celebrities, the restaurants they dined at, and the locations of the latter. "
   ]
  }
 ],
 "metadata": {
  "kernelspec": {
   "display_name": "myenv",
   "language": "python",
   "name": "myenv"
  },
  "language_info": {
   "codemirror_mode": {
    "name": "ipython",
    "version": 3
   },
   "file_extension": ".py",
   "mimetype": "text/x-python",
   "name": "python",
   "nbconvert_exporter": "python",
   "pygments_lexer": "ipython3",
   "version": "3.6.12"
  }
 },
 "nbformat": 4,
 "nbformat_minor": 5
}
